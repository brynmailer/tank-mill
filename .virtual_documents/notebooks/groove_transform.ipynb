import sys
sys.path.append("../src")

import numpy as np
import matplotlib.pyplot as plot

get_ipython().run_line_magic("matplotlib", " inline")


probe_output = "../data/b_points.csv"


from utils import load_points

points = load_points(probe_output)
fig_ranges = {
    "x": [-1500, 0],
    "y": [0, 1500],
}


import plotly.express as px

fig = px.scatter_3d(
    points,
    x="x", y="y", z="z",
    range_x=fig_ranges["x"],
    range_y=fig_ranges["y"],
    range_z=fig_range_z.tolist(),
    title="Probed points",
    height=500,
)

import plotly.graph_objects as go
fig_widget = go.FigureWidget(fig)
fig_widget



