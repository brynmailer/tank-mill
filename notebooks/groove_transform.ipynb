{
 "cells": [
  {
   "cell_type": "code",
   "execution_count": 1,
   "id": "1e8f5892-d712-465b-8278-6812a637e1a1",
   "metadata": {},
   "outputs": [],
   "source": [
    "import sys\n",
    "sys.path.append(\"../src\")\n",
    "\n",
    "import numpy as np\n",
    "import matplotlib.pyplot as plot\n",
    "\n",
    "%matplotlib inline"
   ]
  },
  {
   "cell_type": "code",
   "execution_count": 40,
   "id": "4f54ca98-9484-4281-a92a-3fd9a1646935",
   "metadata": {},
   "outputs": [],
   "source": [
    "probe_output = \"../data/b_points.csv\""
   ]
  },
  {
   "cell_type": "code",
   "execution_count": 48,
   "id": "8a7e5b5c-73f7-49b4-ba30-880389a10fc4",
   "metadata": {},
   "outputs": [],
   "source": [
    "from utils import load_points\n",
    "\n",
    "points = load_points(probe_output)\n",
    "fig_ranges = {\n",
    "    \"x\": [-1500, 0],\n",
    "    \"y\": [0, 1500],\n",
    "}"
   ]
  },
  {
   "cell_type": "code",
   "execution_count": 53,
   "id": "214abae2-13f5-4a63-b616-1ab610d97a02",
   "metadata": {},
   "outputs": [
    {
     "data": {
      "application/vnd.jupyter.widget-view+json": {
       "model_id": "036ee084de1745ab8cac69d1727b25eb",
       "version_major": 2,
       "version_minor": 0
      },
      "text/plain": [
       "FigureWidget({\n",
       "    'data': [{'hovertemplate': 'x=%{x}<br>y=%{y}<br>z=%{z}<extra></extra>',\n",
       "              'legendgroup': '',\n",
       "              'marker': {'color': '#636efa', 'symbol': 'circle'},\n",
       "              'mode': 'markers',\n",
       "              'name': '',\n",
       "              'scene': 'scene',\n",
       "              'showlegend': False,\n",
       "              'type': 'scatter3d',\n",
       "              'uid': '29cace7e-30cc-43bb-90f0-6f7f3d4ccbb7',\n",
       "              'x': {'bdata': ('j8L1KFy/eMC4HoXrUbp0wKRwPQrXtX' ... 'gekX7A7FG4HoWffsApXI/C9bJ+wA=='),\n",
       "                    'dtype': 'f8'},\n",
       "              'y': {'bdata': ('7FG4HoWdfEA9CtejcEt6QLgehetR+H' ... 'MzR4xAj8L1KFykiEDD9ShcjwGFQA=='),\n",
       "                    'dtype': 'f8'},\n",
       "              'z': {'bdata': ('16NwPQr/UcA9CtejcO1RwDMzMzMz21' ... 'Su31HArkfhehTmUcCkcD0K1/NRwA=='),\n",
       "                    'dtype': 'f8'}}],\n",
       "    'layout': {'height': 500,\n",
       "               'legend': {'tracegroupgap': 0},\n",
       "               'scene': {'domain': {'x': [0.0, 1.0], 'y': [0.0, 1.0]},\n",
       "                         'xaxis': {'range': [-1500, 0], 'title': {'text': 'x'}},\n",
       "                         'yaxis': {'range': [0, 1500], 'title': {'text': 'y'}},\n",
       "                         'zaxis': {'range': [-173.07, 31.620000000000005], 'title': {'text': 'z'}}},\n",
       "               'template': '...',\n",
       "               'title': {'text': 'Probed points'}}\n",
       "})"
      ]
     },
     "execution_count": 53,
     "metadata": {},
     "output_type": "execute_result"
    }
   ],
   "source": [
    "import plotly.express as px\n",
    "\n",
    "fig = px.scatter_3d(\n",
    "    points,\n",
    "    x=\"x\", y=\"y\", z=\"z\",\n",
    "    range_x=fig_ranges[\"x\"],\n",
    "    range_y=fig_ranges[\"y\"],\n",
    "    range_z=fig_range_z.tolist(),\n",
    "    title=\"Probed points\",\n",
    "    height=500,\n",
    ")\n",
    "\n",
    "import plotly.graph_objects as go\n",
    "fig_widget = go.FigureWidget(fig)\n",
    "fig_widget"
   ]
  },
  {
   "cell_type": "code",
   "execution_count": null,
   "id": "a371e569-9faf-4e7a-b81d-e0c45fb0c468",
   "metadata": {},
   "outputs": [],
   "source": []
  }
 ],
 "metadata": {
  "kernelspec": {
   "display_name": "Python 3 (ipykernel)",
   "language": "python",
   "name": "python3"
  },
  "language_info": {
   "codemirror_mode": {
    "name": "ipython",
    "version": 3
   },
   "file_extension": ".py",
   "mimetype": "text/x-python",
   "name": "python",
   "nbconvert_exporter": "python",
   "pygments_lexer": "ipython3",
   "version": "3.13.7"
  }
 },
 "nbformat": 4,
 "nbformat_minor": 5
}
